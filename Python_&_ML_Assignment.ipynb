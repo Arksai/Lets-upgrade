{
  "nbformat": 4,
  "nbformat_minor": 0,
  "metadata": {
    "colab": {
      "provenance": [],
      "collapsed_sections": [],
      "authorship_tag": "ABX9TyMtP/wgBGDWE2byj8Lyp519",
      "include_colab_link": true
    },
    "kernelspec": {
      "name": "python3",
      "display_name": "Python 3"
    },
    "language_info": {
      "name": "python"
    }
  },
  "cells": [
    {
      "cell_type": "markdown",
      "metadata": {
        "id": "view-in-github",
        "colab_type": "text"
      },
      "source": [
        "<a href=\"https://colab.research.google.com/github/Arksai/Lets-upgrade/blob/main/Python_%26_ML_Assignment.ipynb\" target=\"_parent\"><img src=\"https://colab.research.google.com/assets/colab-badge.svg\" alt=\"Open In Colab\"/></a>"
      ]
    },
    {
      "cell_type": "markdown",
      "source": [
        "Write a Python program which takes two digits m (row) and n (column) as input and generates a two-dimensional array. The element value in the i-th row and j-th column of the array should be i*j.\n",
        "\n",
        "Note :\n",
        "\n",
        "i = 0,1.., m-1\n",
        "\n",
        "j = 0,1, n-1."
      ],
      "metadata": {
        "id": "NqnoMY0eUUyA"
      }
    },
    {
      "cell_type": "code",
      "source": [
        "m_row=int(input(\"Eneter the Row size:\"))\n",
        "n_column=int(input(\"Enter the Column size:\"))\n",
        "arr = [[0 for col in range(n_column)] for row in range(m_row)]\n",
        "for i in range(m_row):\n",
        "    for j in range(n_column):\n",
        "        arr[i][j]=i*j\n",
        "print(arr)\n",
        "\n"
      ],
      "metadata": {
        "colab": {
          "base_uri": "https://localhost:8080/"
        },
        "id": "hJlheuVoUXQD",
        "outputId": "77aaeef4-53cd-4131-d7ca-a9cfa4af2e15"
      },
      "execution_count": 5,
      "outputs": [
        {
          "output_type": "stream",
          "name": "stdout",
          "text": [
            "Eneter the Row size:4\n",
            "Enter the Column size:5\n",
            "[[0, 0, 0, 0, 0], [0, 1, 2, 3, 4], [0, 2, 4, 6, 8], [0, 3, 6, 9, 12]]\n"
          ]
        }
      ]
    }
  ]
}